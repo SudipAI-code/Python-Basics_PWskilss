{
  "nbformat": 4,
  "nbformat_minor": 0,
  "metadata": {
    "colab": {
      "provenance": []
    },
    "kernelspec": {
      "name": "python3",
      "display_name": "Python 3"
    },
    "language_info": {
      "name": "python"
    }
  },
  "cells": [
    {
      "cell_type": "markdown",
      "source": [],
      "metadata": {
        "id": "As7aKAADcpQy"
      }
    },
    {
      "cell_type": "markdown",
      "source": [
        "1.What is Python, and why is it popular\n",
        "\n",
        "->Python is a high-level, interpreted programming language known for its simplicity, readability, and versatility. It supports multiple programming paradigms, including procedural, object-oriented, and functional programming. Python is widely used in web development, data science, machine learning, automation, and more.\n",
        "\n",
        "Python is popular because it is easy to learn, versatile, has excellent community support, and provides powerful tools for a wide range of applications, making it a go-to language for developers of all levels."
      ],
      "metadata": {
        "id": "fieNfaMocv0f"
      }
    },
    {
      "cell_type": "markdown",
      "source": [],
      "metadata": {
        "id": "aql7ptzXo9t5"
      }
    },
    {
      "cell_type": "markdown",
      "source": [
        "2. What is an interpreter in Python\n",
        "\n",
        "-> An interpreter in Python is a program that reads, translates, and executes Python code line by line. It processes Python source code into machine-readable instructions that can be executed by the computer."
      ],
      "metadata": {
        "id": "OMzMdd68n4hV"
      }
    },
    {
      "cell_type": "markdown",
      "source": [
        "3. What are pre-defined keywords in Python\n",
        "->Predefined keywords in Python are reserved words that have a specific meaning and purpose in the language. These keywords are part of Python's syntax and cannot be used as variable names, function names, or identifiers."
      ],
      "metadata": {
        "id": "GpnMKM5Lothe"
      }
    },
    {
      "cell_type": "markdown",
      "source": [
        "4. Can keywords be used as variable names?\n",
        " ->  NO"
      ],
      "metadata": {
        "id": "emfVEHT8pAl7"
      }
    },
    {
      "cell_type": "markdown",
      "source": [
        "5. What is mutability in Python?\n",
        "->Mutability in Python refers to the ability of an object to be modified after it is created. Based on this property, Python objects are categorized as mutable (modifiable) or immutable (non-modifiable)."
      ],
      "metadata": {
        "id": "8RpQGhDL6VIR"
      }
    },
    {
      "cell_type": "markdown",
      "source": [
        "6. Why are lists mutable, but tuples are immutable?\n",
        "-> Lists are mutable because elements of a list can be modified or can be edited after creation, but this is not possible for tuples, that's why its called immutable."
      ],
      "metadata": {
        "id": "Qw9Lk--S6ldj"
      }
    },
    {
      "cell_type": "markdown",
      "source": [
        "7. What is the difference between “==” and “is” operators in Python?\n",
        "->Both == and is are comparison operators in Python, but they are used for different purposes:\n",
        "\n",
        "1> == (Equality Operator)\n",
        "Purpose: Checks if the values of two objects are equal.\n",
        "2> is (Identity Operator)\n",
        "Purpose: Checks if two objects refer to the same memory location."
      ],
      "metadata": {
        "id": "TTj9Vryj6la7"
      }
    },
    {
      "cell_type": "markdown",
      "source": [
        "8. What are logical operators in Python?\n",
        "->Logical operators are used to combine conditional statements and evaluate logical expressions. They return a boolean value (True or False) based on the logic applied to the operands.\n",
        "\n"
      ],
      "metadata": {
        "id": "U0-XlX-U6lYk"
      }
    },
    {
      "cell_type": "markdown",
      "source": [
        "9. What is type casting in Python?\n",
        "->Type casting in Python refers to converting one data type into another. This is useful when you need to perform operations that require a specific data type. Python supports both implicit and explicit type casting.\n",
        "\n",
        "**Implicit Type Casting:**\n",
        "\n",
        "Definition: Python automatically converts one data type to another where no data loss occurs.\n",
        "Example: Converting a smaller data type (e.g., int) to a larger one (e.g., float).\n",
        "\n",
        "**Explicit Type Casting:**\n",
        "\n",
        "Definition: The programmer manually converts one data type into another using Python's built-in functions.\n",
        "Methods:\n",
        "int(): Converts to an integer.\n",
        "float(): Converts to a floating-point number.\n",
        "str(): Converts to a string.\n",
        "list(): Converts to a list.\n",
        "tuple(): Converts to a tuple.\n",
        "set(): Converts to a set.\n",
        "dict(): Converts to a dictionary (from specific structures like a list of key-value pairs)."
      ],
      "metadata": {
        "id": "aTuGflv96lV9"
      }
    },
    {
      "cell_type": "markdown",
      "source": [
        "10. What is the difference between implicit and explicit type casting?\n",
        "->Implicit Type Casting:\n",
        "\n",
        "Definition: Python automatically converts one data type to another where no data loss occurs. Example: Converting a smaller data type (e.g., int) to a larger one (e.g., float).\n",
        "\n",
        "Explicit Type Casting:\n",
        "\n",
        "Definition: The programmer manually converts one data type into another using Python's built-in functions. Methods: int(): Converts to an integer. float(): Converts to a floating-point number. str(): Converts to a string. list(): Converts to a list. tuple(): Converts to a tuple. set(): Converts to a set. dict(): Converts to a dictionary (from specific structures like a list of key-value pairs)."
      ],
      "metadata": {
        "id": "QHXEOc4R6lTX"
      }
    },
    {
      "cell_type": "markdown",
      "source": [
        "11. What is the purpose of conditional statements in Python?\n",
        "->Conditional statements in Python allow the program to make decisions and execute specific blocks of code based on whether certain conditions are true or false. They enable dynamic and flexible program behavior by introducing decision-making capabilities."
      ],
      "metadata": {
        "id": "Ge_HFkHj6lQ3"
      }
    },
    {
      "cell_type": "markdown",
      "source": [
        "12. How does the elif statement work?\n",
        "->The elif statement in Python is short for \"else if\". It allows you to check multiple conditions sequentially after an initial if statement. If the condition in the if statement is False, Python evaluates the elif conditions one by one until it finds one that is True. Once a True condition is found, the corresponding block of code executes, and the rest of the conditions are ignored."
      ],
      "metadata": {
        "id": "Nw6bZ9RP6lOJ"
      }
    },
    {
      "cell_type": "markdown",
      "source": [
        "13. What is the difference between for and while loops?\n",
        "->**for Loop**\n",
        "\n",
        "Purpose: Used when the number of iterations is predetermined or when iterating over a sequence (e.g., list, string, tuple, range, dictionary).\n",
        "Iteration: Iterates over each element of a sequence or a range.\n",
        "\n",
        "**while Loop**\n",
        "\n",
        "Purpose: Used when the number of iterations is not predetermined and depends on a condition being met.\n",
        "Iteration: Continues as long as the condition is True."
      ],
      "metadata": {
        "id": "iFqXfHEa6lLo"
      }
    },
    {
      "cell_type": "markdown",
      "source": [
        "14. Describe a scenario where a while loop is more suitable than a for loop?\n",
        "->A while loop is more suitable when the number of iterations is unknown and depends on a dynamic condition that may change during execution.\n",
        "\n",
        "**Scenario: Waiting for User Input**\n",
        "\n",
        "Imagine you're creating a program where the user must input a valid password to access a system. The program doesn't know how many attempts the user will need, so the loop continues until the user provides the correct password."
      ],
      "metadata": {
        "id": "31I4IU4J6lI7"
      }
    },
    {
      "cell_type": "markdown",
      "source": [
        "Write a Python program to print \"Hello, World!"
      ],
      "metadata": {
        "id": "b7-uXa2n28dc"
      }
    },
    {
      "cell_type": "code",
      "source": [
        "print(\"Hello World!\")"
      ],
      "metadata": {
        "colab": {
          "base_uri": "https://localhost:8080/"
        },
        "id": "9QcC9Pmu2zEO",
        "outputId": "f7e47aa0-9353-4b42-d1e9-577ec74722f4"
      },
      "execution_count": 1,
      "outputs": [
        {
          "output_type": "stream",
          "name": "stdout",
          "text": [
            "Hello World!\n"
          ]
        }
      ]
    },
    {
      "cell_type": "markdown",
      "source": [
        "Write a Python program that displays your name and age"
      ],
      "metadata": {
        "id": "EmhOe6zB3MUq"
      }
    },
    {
      "cell_type": "code",
      "source": [
        "name = \"Sudip\"\n",
        "age = \"27\"\n",
        "\n",
        "print(\"the name is :\", name)\n",
        "print(\"the age is :\", age)"
      ],
      "metadata": {
        "colab": {
          "base_uri": "https://localhost:8080/"
        },
        "id": "7X2E2TeC3C5t",
        "outputId": "34f7b585-23d0-430c-c307-1e77cdcbcd0a"
      },
      "execution_count": 4,
      "outputs": [
        {
          "output_type": "stream",
          "name": "stdout",
          "text": [
            "the name is : Sudip\n",
            "the age is : 27\n"
          ]
        }
      ]
    },
    {
      "cell_type": "markdown",
      "source": [
        "Write code to print all the pre-defined keywords in Python using the keyword library"
      ],
      "metadata": {
        "id": "dLyBmpMI31Gf"
      }
    },
    {
      "cell_type": "code",
      "source": [
        "import keyword\n",
        "\n",
        "# Print all the predefined keywords in Python\n",
        "print(\"Predefined Keywords in Python:\")\n",
        "for kw in keyword.kwlist:\n",
        "    print(kw, end = \", \")\n"
      ],
      "metadata": {
        "colab": {
          "base_uri": "https://localhost:8080/"
        },
        "id": "epFOWGVE3cBz",
        "outputId": "3ab4b775-19c7-499a-ddeb-2de31608fac1"
      },
      "execution_count": 6,
      "outputs": [
        {
          "output_type": "stream",
          "name": "stdout",
          "text": [
            "Predefined Keywords in Python:\n",
            "False, None, True, and, as, assert, async, await, break, class, continue, def, del, elif, else, except, finally, for, from, global, if, import, in, is, lambda, nonlocal, not, or, pass, raise, return, try, while, with, yield, "
          ]
        }
      ]
    },
    {
      "cell_type": "markdown",
      "source": [
        "Write a program that checks if a given word is a Python keyword"
      ],
      "metadata": {
        "id": "rNXj9M6y4Hfi"
      }
    },
    {
      "cell_type": "code",
      "source": [
        "import keyword\n",
        "\n",
        "word = input(\"Enter the word: \")\n",
        "for i in keyword.kwlist:\n",
        "  if word == i:\n",
        "    print(\"this is the Python keyword.\")\n",
        "    break\n",
        "else:\n",
        "  print(\"not a keyword.\")"
      ],
      "metadata": {
        "colab": {
          "base_uri": "https://localhost:8080/"
        },
        "id": "DaFvhl1u34Fs",
        "outputId": "1f21c9d6-0f06-411d-f2a8-66c6c0663cbe"
      },
      "execution_count": 11,
      "outputs": [
        {
          "output_type": "stream",
          "name": "stdout",
          "text": [
            "Enter the word: hello\n",
            "not a keyword.\n"
          ]
        }
      ]
    },
    {
      "cell_type": "markdown",
      "source": [
        "Create a list and tuple in Python, and demonstrate how attempting to change an element works differently for each"
      ],
      "metadata": {
        "id": "9V2x9AjR5bp9"
      }
    },
    {
      "cell_type": "code",
      "source": [
        "lst = [1,2,3]\n",
        "tpl = (1,2,3)\n",
        "\n",
        "lst[0] = 10\n",
        "print(\"the new list is: \",lst)\n",
        "\n",
        "tpl[0] = 10\n",
        "print(tpl)"
      ],
      "metadata": {
        "colab": {
          "base_uri": "https://localhost:8080/",
          "height": 211
        },
        "id": "jRR78-xA4iwX",
        "outputId": "cd1410f7-b908-4785-e98b-276ead573c20"
      },
      "execution_count": 13,
      "outputs": [
        {
          "output_type": "stream",
          "name": "stdout",
          "text": [
            "the new list is:  [10, 2, 3]\n"
          ]
        },
        {
          "output_type": "error",
          "ename": "TypeError",
          "evalue": "'tuple' object does not support item assignment",
          "traceback": [
            "\u001b[0;31m---------------------------------------------------------------------------\u001b[0m",
            "\u001b[0;31mTypeError\u001b[0m                                 Traceback (most recent call last)",
            "\u001b[0;32m<ipython-input-13-07987841657f>\u001b[0m in \u001b[0;36m<cell line: 7>\u001b[0;34m()\u001b[0m\n\u001b[1;32m      5\u001b[0m \u001b[0mprint\u001b[0m\u001b[0;34m(\u001b[0m\u001b[0;34m\"the new list is: \"\u001b[0m\u001b[0;34m,\u001b[0m\u001b[0mlst\u001b[0m\u001b[0;34m)\u001b[0m\u001b[0;34m\u001b[0m\u001b[0;34m\u001b[0m\u001b[0m\n\u001b[1;32m      6\u001b[0m \u001b[0;34m\u001b[0m\u001b[0m\n\u001b[0;32m----> 7\u001b[0;31m \u001b[0mtpl\u001b[0m\u001b[0;34m[\u001b[0m\u001b[0;36m0\u001b[0m\u001b[0;34m]\u001b[0m \u001b[0;34m=\u001b[0m \u001b[0;36m10\u001b[0m\u001b[0;34m\u001b[0m\u001b[0;34m\u001b[0m\u001b[0m\n\u001b[0m\u001b[1;32m      8\u001b[0m \u001b[0mprint\u001b[0m\u001b[0;34m(\u001b[0m\u001b[0mtpl\u001b[0m\u001b[0;34m)\u001b[0m\u001b[0;34m\u001b[0m\u001b[0;34m\u001b[0m\u001b[0m\n",
            "\u001b[0;31mTypeError\u001b[0m: 'tuple' object does not support item assignment"
          ]
        }
      ]
    },
    {
      "cell_type": "markdown",
      "source": [
        "Write a function to demonstrate the behavior of mutable and immutable arguments"
      ],
      "metadata": {
        "id": "WFlDQxjc-Bdf"
      }
    },
    {
      "cell_type": "code",
      "source": [
        "def demonstrate_mutable_immutable(mutable_obj, immutable_obj):\n",
        "    # Modify the mutable object (list)\n",
        "    mutable_obj.append(4)\n",
        "    print(\"Inside function - Modified mutable object:\", mutable_obj)\n",
        "\n",
        "    # Try modifying the immutable object (integer)\n",
        "    immutable_obj += 1  # This creates a new integer object\n",
        "    print(\"Inside function - Modified immutable object:\", immutable_obj)\n",
        "\n",
        "# Create a mutable object (list) and an immutable object (integer)\n",
        "my_list = [1, 2, 3]  # Mutable\n",
        "my_int = 10          # Immutable\n",
        "\n",
        "# Call the function\n",
        "print(\"Before function call - Mutable object:\", my_list)\n",
        "print(\"Before function call - Immutable object:\", my_int)\n",
        "\n",
        "demonstrate_mutable_immutable(my_list, my_int)\n",
        "\n",
        "# Check values after the function call\n",
        "print(\"After function call - Mutable object:\", my_list)  # Modified in place\n",
        "print(\"After function call - Immutable object:\", my_int) # Remains unchanged\n"
      ],
      "metadata": {
        "colab": {
          "base_uri": "https://localhost:8080/"
        },
        "id": "mMXWj9ru5urg",
        "outputId": "06ba0b91-b00b-4b90-ab77-a8cf3dc160a9"
      },
      "execution_count": 14,
      "outputs": [
        {
          "output_type": "stream",
          "name": "stdout",
          "text": [
            "Before function call - Mutable object: [1, 2, 3]\n",
            "Before function call - Immutable object: 10\n",
            "Inside function - Modified mutable object: [1, 2, 3, 4]\n",
            "Inside function - Modified immutable object: 11\n",
            "After function call - Mutable object: [1, 2, 3, 4]\n",
            "After function call - Immutable object: 10\n"
          ]
        }
      ]
    },
    {
      "cell_type": "markdown",
      "source": [
        "Write a program to demonstrate the use of logical operators"
      ],
      "metadata": {
        "id": "OVHso61N-UGo"
      }
    },
    {
      "cell_type": "code",
      "source": [
        "num = int(input(\"Enter the number: \"))\n",
        "# using logical operator and.\n",
        "if num >=0 and num %2 == 0:\n",
        "  print(\"even number.\")\n",
        "else:\n",
        "  print(\"Odd number\")"
      ],
      "metadata": {
        "colab": {
          "base_uri": "https://localhost:8080/"
        },
        "id": "c1AN4ATt-Dr_",
        "outputId": "75f377f9-dbd7-4319-8831-b963973a2ddc"
      },
      "execution_count": 18,
      "outputs": [
        {
          "output_type": "stream",
          "name": "stdout",
          "text": [
            "Enter the number: 13\n",
            "Odd number\n"
          ]
        }
      ]
    },
    {
      "cell_type": "markdown",
      "source": [
        "Write a Python program to convert user input from string to integer, float, and boolean types:"
      ],
      "metadata": {
        "id": "fMVwWLvs_DwH"
      }
    },
    {
      "cell_type": "code",
      "source": [
        "user_input = input(\"Enter a value: \")\n",
        "print(int(user_input))\n",
        "print(float(user_input))\n",
        "bool_value = bool(user_input)\n",
        "print(bool_value)"
      ],
      "metadata": {
        "colab": {
          "base_uri": "https://localhost:8080/"
        },
        "id": "5Vov8rrN-qoi",
        "outputId": "a2140049-be08-4c20-eb81-88eec738e6e8"
      },
      "execution_count": 22,
      "outputs": [
        {
          "output_type": "stream",
          "name": "stdout",
          "text": [
            "Enter a value: 12\n",
            "12\n",
            "12.0\n",
            "True\n"
          ]
        }
      ]
    },
    {
      "cell_type": "markdown",
      "source": [
        "Write code to demonstrate type casting with list elements"
      ],
      "metadata": {
        "id": "YuQKaHyYAcB7"
      }
    },
    {
      "cell_type": "code",
      "source": [
        "lst = [1,2,3.5,\"Sudip\", True]\n",
        "print(\"the type of first elememnt is : \",type(lst[0]))\n",
        "lst[0] = \"Ram\"\n",
        "print(\"The new list is: \",lst)\n",
        "print(\"The type of new list is \", type(lst[0]))"
      ],
      "metadata": {
        "colab": {
          "base_uri": "https://localhost:8080/"
        },
        "id": "58lyLa9D_bs_",
        "outputId": "a0aaac55-b33c-4e73-a2ac-821e6630b7fe"
      },
      "execution_count": 23,
      "outputs": [
        {
          "output_type": "stream",
          "name": "stdout",
          "text": [
            "the type of first elememnt is :  <class 'int'>\n",
            "The new list is:  ['Ram', 2, 3.5, 'Sudip', True]\n",
            "The type of new list is  <class 'str'>\n"
          ]
        }
      ]
    },
    {
      "cell_type": "markdown",
      "source": [
        "Write a program that checks if a number is positive, negative, or zero"
      ],
      "metadata": {
        "id": "7iMBS5FdBL3w"
      }
    },
    {
      "cell_type": "code",
      "source": [
        "num = int(input(\"Enter the number: \"))\n",
        "if num >0:\n",
        "  print(\"Positive\")\n",
        "elif num < 0:\n",
        "  print(\"negative\")\n",
        "else:\n",
        "  print(\"Zero\")"
      ],
      "metadata": {
        "colab": {
          "base_uri": "https://localhost:8080/"
        },
        "id": "_4qkXDcJBGC2",
        "outputId": "c7571230-5506-40e0-91f4-841827681192"
      },
      "execution_count": 26,
      "outputs": [
        {
          "output_type": "stream",
          "name": "stdout",
          "text": [
            "Enter the number: 0\n",
            "Zero\n"
          ]
        }
      ]
    },
    {
      "cell_type": "markdown",
      "source": [
        "Write a for loop to print numbers from 1 to 10"
      ],
      "metadata": {
        "id": "fdnqsWptBjgE"
      }
    },
    {
      "cell_type": "code",
      "source": [
        "for i in range(1,11):\n",
        "  print(i, end = \" \")"
      ],
      "metadata": {
        "colab": {
          "base_uri": "https://localhost:8080/"
        },
        "id": "e0KW1PFNBcQe",
        "outputId": "ccb6c3ec-9188-4840-b00d-19427c4442a1"
      },
      "execution_count": 27,
      "outputs": [
        {
          "output_type": "stream",
          "name": "stdout",
          "text": [
            "1 2 3 4 5 6 7 8 9 10 "
          ]
        }
      ]
    },
    {
      "cell_type": "markdown",
      "source": [
        "Write a Python program to find the sum of all even numbers between 1 and 50\n",
        "\n",
        "\n"
      ],
      "metadata": {
        "id": "5hk0XK7IBut3"
      }
    },
    {
      "cell_type": "code",
      "source": [
        "sum = 0\n",
        "for i in range(1,51):\n",
        "  if i%2 == 0:\n",
        "    sum+=i\n",
        "print(sum)"
      ],
      "metadata": {
        "colab": {
          "base_uri": "https://localhost:8080/"
        },
        "id": "NPLtUMhzBqLV",
        "outputId": "4fb0d706-a763-42d0-84f7-72c939dcc463"
      },
      "execution_count": 32,
      "outputs": [
        {
          "output_type": "stream",
          "name": "stdout",
          "text": [
            "650\n"
          ]
        }
      ]
    },
    {
      "cell_type": "markdown",
      "source": [
        "Write a program to reverse a string using a while loop"
      ],
      "metadata": {
        "id": "WDqMYf6qCb3f"
      }
    },
    {
      "cell_type": "code",
      "source": [
        "rev_str = \"\"\n",
        "string = input(\"Enter the string: \")\n",
        "index = len(string)\n",
        "while index >0 :\n",
        "  rev_str += string[index-1]\n",
        "  index -= 1\n",
        "print(rev_str)\n"
      ],
      "metadata": {
        "colab": {
          "base_uri": "https://localhost:8080/"
        },
        "id": "97uqL3fqB3-4",
        "outputId": "cada707c-6420-408d-d3eb-42a4c635a585"
      },
      "execution_count": 42,
      "outputs": [
        {
          "output_type": "stream",
          "name": "stdout",
          "text": [
            "Enter the string: sudip\n",
            "pidus\n"
          ]
        }
      ]
    },
    {
      "cell_type": "markdown",
      "source": [
        "Write a Python program to calculate the factorial of a number provided by the user using a while loop"
      ],
      "metadata": {
        "id": "M9QphMBaEqh0"
      }
    },
    {
      "cell_type": "code",
      "source": [
        "num = int(input(\"Enter the number: \"))\n",
        "prod = 1\n",
        "if num == 0:\n",
        "  print(\"the Factorial is 0\")\n",
        "elif num == 1:\n",
        "  print(\"the Factorial is 1\")\n",
        "else:\n",
        "  while num > 0:\n",
        "    prod *= num\n",
        "    num -= 1\n",
        "print(prod)"
      ],
      "metadata": {
        "colab": {
          "base_uri": "https://localhost:8080/"
        },
        "id": "DNXnruFXCw1a",
        "outputId": "d9a4ac20-0300-41c5-c8e5-c74a642603dd"
      },
      "execution_count": 47,
      "outputs": [
        {
          "output_type": "stream",
          "name": "stdout",
          "text": [
            "Enter the number: 8\n",
            "40320\n"
          ]
        }
      ]
    },
    {
      "cell_type": "code",
      "source": [],
      "metadata": {
        "id": "6KtJcz6kFbyN"
      },
      "execution_count": null,
      "outputs": []
    }
  ]
}